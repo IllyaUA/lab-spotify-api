{
 "cells": [
  {
   "cell_type": "code",
   "execution_count": 1,
   "id": "5aec70ba",
   "metadata": {},
   "outputs": [
    {
     "name": "stdout",
     "output_type": "stream",
     "text": [
      " Volume in drive C has no label.\n",
      " Volume Serial Number is B8C5-A35A\n",
      "\n",
      " Directory of C:\\Users\\i.glavatskyi\\Ironhack\\Week_6\\lab-spotify-api\\code\n",
      "\n",
      "13/10/2023  01:15    <DIR>          .\n",
      "13/10/2023  01:15    <DIR>          ..\n",
      "13/10/2023  01:14    <DIR>          .ipynb_checkpoints\n",
      "13/10/2023  01:05                99 configspy.py\n",
      "13/10/2023  01:13             7,121 lap_spotify_API-Copy1.ipynb\n",
      "13/10/2023  01:15             7,121 lap_spotify_API.ipynb\n",
      "               3 File(s)         14,341 bytes\n",
      "               3 Dir(s)  172,938,182,656 bytes free\n"
     ]
    }
   ],
   "source": [
    "!dir"
   ]
  },
  {
   "cell_type": "code",
   "execution_count": 131,
   "id": "e603e941",
   "metadata": {},
   "outputs": [],
   "source": [
    "#from ..private import config_spotipy\n",
    "import sys\n",
    "from configspy import *\n",
    "import spotipy\n",
    "import json\n",
    "import pandas as pd\n",
    "import time\n",
    "\n",
    "from spotipy.oauth2 import SpotifyClientCredentials\n"
   ]
  },
  {
   "cell_type": "code",
   "execution_count": 132,
   "id": "080c64df",
   "metadata": {},
   "outputs": [],
   "source": [
    "sp = spotipy.Spotify(auth_manager=SpotifyClientCredentials(client_id=client_id, client_secret=client_secret))"
   ]
  },
  {
   "cell_type": "code",
   "execution_count": 133,
   "id": "7e1c345a",
   "metadata": {},
   "outputs": [],
   "source": [
    "def extract_song_id(uri):\n",
    "    # Split the URI by ':'\n",
    "    parts = uri.split(':')\n",
    "    # The song ID is the last part\n",
    "    song_id = parts[-1]\n",
    "    return song_id\n"
   ]
  },
  {
   "cell_type": "code",
   "execution_count": 140,
   "id": "c9327007",
   "metadata": {},
   "outputs": [],
   "source": [
    "# Function to search for a song and return its URIs (Spotify IDs)\n",
    "def search_song(title, artist, limit=1):\n",
    "    song_uris = []  # Initialize a list to store song URIs\n",
    "\n",
    "    try:\n",
    "        if artist:\n",
    "            # Search for the song using both title and artist\n",
    "            query = f\"track:{title} artist:{artist}\"\n",
    "        else:\n",
    "            # Search for the song using title alone\n",
    "            query = f\"track:{title}\"\n",
    "\n",
    "        # Add a delay before making the API call\n",
    "        time.sleep(20)\n",
    "\n",
    "        # Perform the search\n",
    "        results = sp.search(q=query, type='track', limit=limit)\n",
    "\n",
    "        # Check if any tracks were found\n",
    "        if results['tracks']['items']:\n",
    "            uris = [item['uri'] for item in results['tracks']['items']]\n",
    "            song_uris.extend(uris)\n",
    "\n",
    "        # Create a dictionary to store song data\n",
    "        song_data = {\n",
    "            'song_name': [],\n",
    "            'artist': [],\n",
    "            'spotify_id': []\n",
    "        }\n",
    "\n",
    "        for track in results['tracks']['items']:\n",
    "            song_data['song_name'].append(track['name'])\n",
    "            song_data['artist'].append(track['artists'][0]['name'])\n",
    "            song_data['spotify_id'].append(extract_song_id(track['uri']))\n",
    "\n",
    "        # Create a DataFrame from the song data\n",
    "        song_df = pd.DataFrame(song_data)\n",
    "\n",
    "    except Exception as e:\n",
    "        # Handle exceptions, e.g., if there's an issue with the Spotify API\n",
    "        print(f\"Error: {e}\")\n",
    "        song_df = pd.DataFrame()\n",
    "\n",
    "    return song_uris, song_df\n",
    "\n",
    "# Example usage:\n",
    "title = \"Immigrant Song\"\n",
    "artist = \"Led Zeppelin\"\n",
    "limit = 1"
   ]
  },
  {
   "cell_type": "code",
   "execution_count": 135,
   "id": "7cc31bf5",
   "metadata": {},
   "outputs": [],
   "source": [
    "def get_audio_features(list_of_song_ids):\n",
    "    audio_features = []\n",
    "    \n",
    "    try:\n",
    "        for song_id in list_of_song_ids:\n",
    "            # Get audio features for the song\n",
    "            features = sp.audio_features(tracks=[song_id])\n",
    "            audio_features.extend(features)\n",
    "            \n",
    "    except Exception as e:\n",
    "        print(f\"Error: {e}\")\n",
    "    \n",
    "    return audio_features"
   ]
  },
  {
   "cell_type": "code",
   "execution_count": 136,
   "id": "6f3f7b20",
   "metadata": {},
   "outputs": [],
   "source": [
    "def extract_audio_feature_keys(features):\n",
    "    # Extract the keys (audio feature names) from the first item in the list\n",
    "    return list(features[0].keys())\n"
   ]
  },
  {
   "cell_type": "code",
   "execution_count": 137,
   "id": "01ddde90",
   "metadata": {},
   "outputs": [],
   "source": [
    "def get_song_info_with_features(title, artist, limit):\n",
    "    song_info = []\n",
    "    audio_features_dict = {\n",
    "        'song_name': \"\",\n",
    "        'artist': \"\",\n",
    "        'id': \"\",\n",
    "        'danceability': \"\", 'energy': \"\", 'key': \"\", 'loudness': \"\", 'mode': \"\", 'speechiness': \"\", 'acousticness': \"\", 'instrumentalness': \"\", 'liveness': \"\", 'valence': \"\", 'tempo': \"\", 'type': \"\", 'id': \"\", 'uri': \"\", 'track_href': \"\", 'analysis_url': \"\", 'duration_ms': \"\", 'time_signature': \"\"\n",
    "    }\n",
    "    \n",
    "    song_ids = search_song(title, artist, limit)\n",
    "    \n",
    "    if not song_ids:\n",
    "        return  # Exit the function if no song IDs are found\n",
    "    display(0)\n",
    "    # Extract audio feature keys from the first track's audio features\n",
    "    if song_ids:\n",
    "        display(1)\n",
    "        time.sleep(20)\n",
    "        track_info = get_audio_features(song_ids)\n",
    "  \n",
    "    for chunk in [song_ids[i:i+50] for i in range(0, len(song_ids), 50)]:\n",
    "        audio_features = get_audio_features(chunk)\n",
    "        \n",
    "        for features in audio_features:\n",
    "            # Append the information to the lists in the dictionary\n",
    "            audio_features_dict['song_name'].append(title)\n",
    "            audio_features_dict['artist'].append(artist)\n",
    "            audio_features_dict['id'].append(chunk[i])  # Take the first song ID\n",
    "            for key in feature_keys:\n",
    "                audio_features_dict[key].append(features[key])\n",
    "\n",
    "        # Add a delay before making the next API call\n",
    "        display(audio_features_dict)\n",
    "        time.sleep(20)\n",
    "\n",
    "    return pd.DataFrame(audio_features_dict)\n",
    "\n",
    "\n",
    "# Example usage:\n",
    "#song_info_df = get_song_info_with_features(song_data)"
   ]
  },
  {
   "cell_type": "code",
   "execution_count": 142,
   "id": "bd3ffbc9",
   "metadata": {},
   "outputs": [],
   "source": [
    "title = \"Georgia off My Mind\"\n",
    "artist = \"\"\n",
    "limit = 5"
   ]
  },
  {
   "cell_type": "code",
   "execution_count": null,
   "id": "340fb63a",
   "metadata": {},
   "outputs": [
    {
     "data": {
      "text/plain": [
       "0"
      ]
     },
     "metadata": {},
     "output_type": "display_data"
    },
    {
     "data": {
      "text/plain": [
       "1"
      ]
     },
     "metadata": {},
     "output_type": "display_data"
    },
    {
     "name": "stdout",
     "output_type": "stream",
     "text": [
      "Error: expected string or bytes-like object, got 'list'\n",
      "Error: expected string or bytes-like object, got 'list'\n"
     ]
    },
    {
     "data": {
      "text/plain": [
       "{'song_name': '',\n",
       " 'artist': '',\n",
       " 'id': '',\n",
       " 'danceability': '',\n",
       " 'energy': '',\n",
       " 'key': '',\n",
       " 'loudness': '',\n",
       " 'mode': '',\n",
       " 'speechiness': '',\n",
       " 'acousticness': '',\n",
       " 'instrumentalness': '',\n",
       " 'liveness': '',\n",
       " 'valence': '',\n",
       " 'tempo': '',\n",
       " 'type': '',\n",
       " 'uri': '',\n",
       " 'track_href': '',\n",
       " 'analysis_url': '',\n",
       " 'duration_ms': '',\n",
       " 'time_signature': ''}"
      ]
     },
     "metadata": {},
     "output_type": "display_data"
    }
   ],
   "source": [
    "tracks=get_song_info_with_features(title, artist, limit)\n",
    "tracks"
   ]
  },
  {
   "cell_type": "code",
   "execution_count": 128,
   "id": "c357b679",
   "metadata": {},
   "outputs": [],
   "source": [
    "#add to the existing dataset\n",
    "def add_audio_features(df, audio_features_df):\n",
    "    # Check if both dataframes have the same length\n",
    "    if len(df) != len(audio_features_df):\n",
    "        raise ValueError(\"Dataframes must have the same length.\")\n",
    "\n",
    "    # Concatenate the dataframes horizontally\n",
    "    extended_df = pd.concat([df, audio_features_df], axis=1)\n",
    "\n",
    "    return extended_df\n"
   ]
  },
  {
   "cell_type": "code",
   "execution_count": 143,
   "id": "59cc8246",
   "metadata": {},
   "outputs": [
    {
     "name": "stdout",
     "output_type": "stream",
     "text": [
      "Song URIs: ['spotify:track:4dLPPSxHgaoy38YmX4yJnV', 'spotify:track:2se33uCsb88PVwbp6ESNGb', 'spotify:track:61QrMlxsE6A0Qyw21RGmbZ', 'spotify:track:4dmyrJKIeq1Y2XYS48SDSA', 'spotify:track:0C8UU7gEofNAoprBkZZih9']\n",
      "Song DataFrame:\n",
      "                                           song_name       artist  \\\n",
      "0                                Georgia Off My Mind   Larkin Poe   \n",
      "1                                Georgia Off My Mind   Larkin Poe   \n",
      "2                                Georgia off My Mind   Jared Wade   \n",
      "3  Georgia on My Mind (with Gene Krupa & His Orch...  Anita O'Day   \n",
      "4                                Georgia Off My Mind   Larkin Poe   \n",
      "\n",
      "               spotify_id  \n",
      "0  4dLPPSxHgaoy38YmX4yJnV  \n",
      "1  2se33uCsb88PVwbp6ESNGb  \n",
      "2  61QrMlxsE6A0Qyw21RGmbZ  \n",
      "3  4dmyrJKIeq1Y2XYS48SDSA  \n",
      "4  0C8UU7gEofNAoprBkZZih9  \n"
     ]
    }
   ],
   "source": [
    "song_uris, song_df = search_song(title, artist, limit)\n",
    "print(\"Song URIs:\", song_uris)\n",
    "print(\"Song DataFrame:\")\n",
    "print(song_df)\n"
   ]
  },
  {
   "cell_type": "code",
   "execution_count": 144,
   "id": "aa7af87b",
   "metadata": {},
   "outputs": [
    {
     "data": {
      "text/plain": [
       "[{'danceability': 0.643,\n",
       "  'energy': 0.599,\n",
       "  'key': 2,\n",
       "  'loudness': -8.541,\n",
       "  'mode': 1,\n",
       "  'speechiness': 0.0292,\n",
       "  'acousticness': 0.0214,\n",
       "  'instrumentalness': 1.89e-06,\n",
       "  'liveness': 0.282,\n",
       "  'valence': 0.591,\n",
       "  'tempo': 113.982,\n",
       "  'type': 'audio_features',\n",
       "  'id': '4dLPPSxHgaoy38YmX4yJnV',\n",
       "  'uri': 'spotify:track:4dLPPSxHgaoy38YmX4yJnV',\n",
       "  'track_href': 'https://api.spotify.com/v1/tracks/4dLPPSxHgaoy38YmX4yJnV',\n",
       "  'analysis_url': 'https://api.spotify.com/v1/audio-analysis/4dLPPSxHgaoy38YmX4yJnV',\n",
       "  'duration_ms': 234212,\n",
       "  'time_signature': 4},\n",
       " {'danceability': 0.643,\n",
       "  'energy': 0.599,\n",
       "  'key': 2,\n",
       "  'loudness': -8.541,\n",
       "  'mode': 1,\n",
       "  'speechiness': 0.0292,\n",
       "  'acousticness': 0.0214,\n",
       "  'instrumentalness': 1.89e-06,\n",
       "  'liveness': 0.282,\n",
       "  'valence': 0.591,\n",
       "  'tempo': 113.982,\n",
       "  'type': 'audio_features',\n",
       "  'id': '2se33uCsb88PVwbp6ESNGb',\n",
       "  'uri': 'spotify:track:2se33uCsb88PVwbp6ESNGb',\n",
       "  'track_href': 'https://api.spotify.com/v1/tracks/2se33uCsb88PVwbp6ESNGb',\n",
       "  'analysis_url': 'https://api.spotify.com/v1/audio-analysis/2se33uCsb88PVwbp6ESNGb',\n",
       "  'duration_ms': 234212,\n",
       "  'time_signature': 4},\n",
       " {'danceability': 0.587,\n",
       "  'energy': 0.526,\n",
       "  'key': 0,\n",
       "  'loudness': -6.738,\n",
       "  'mode': 1,\n",
       "  'speechiness': 0.0245,\n",
       "  'acousticness': 0.462,\n",
       "  'instrumentalness': 0.000515,\n",
       "  'liveness': 0.124,\n",
       "  'valence': 0.282,\n",
       "  'tempo': 143.849,\n",
       "  'type': 'audio_features',\n",
       "  'id': '61QrMlxsE6A0Qyw21RGmbZ',\n",
       "  'uri': 'spotify:track:61QrMlxsE6A0Qyw21RGmbZ',\n",
       "  'track_href': 'https://api.spotify.com/v1/tracks/61QrMlxsE6A0Qyw21RGmbZ',\n",
       "  'analysis_url': 'https://api.spotify.com/v1/audio-analysis/61QrMlxsE6A0Qyw21RGmbZ',\n",
       "  'duration_ms': 234587,\n",
       "  'time_signature': 4},\n",
       " {'danceability': 0.571,\n",
       "  'energy': 0.302,\n",
       "  'key': 7,\n",
       "  'loudness': -8.534,\n",
       "  'mode': 0,\n",
       "  'speechiness': 0.0341,\n",
       "  'acousticness': 0.92,\n",
       "  'instrumentalness': 0.000173,\n",
       "  'liveness': 0.0979,\n",
       "  'valence': 0.603,\n",
       "  'tempo': 137.139,\n",
       "  'type': 'audio_features',\n",
       "  'id': '4dmyrJKIeq1Y2XYS48SDSA',\n",
       "  'uri': 'spotify:track:4dmyrJKIeq1Y2XYS48SDSA',\n",
       "  'track_href': 'https://api.spotify.com/v1/tracks/4dmyrJKIeq1Y2XYS48SDSA',\n",
       "  'analysis_url': 'https://api.spotify.com/v1/audio-analysis/4dmyrJKIeq1Y2XYS48SDSA',\n",
       "  'duration_ms': 174200,\n",
       "  'time_signature': 4},\n",
       " {'danceability': 0.643,\n",
       "  'energy': 0.599,\n",
       "  'key': 2,\n",
       "  'loudness': -8.541,\n",
       "  'mode': 1,\n",
       "  'speechiness': 0.0292,\n",
       "  'acousticness': 0.0214,\n",
       "  'instrumentalness': 1.89e-06,\n",
       "  'liveness': 0.282,\n",
       "  'valence': 0.591,\n",
       "  'tempo': 113.982,\n",
       "  'type': 'audio_features',\n",
       "  'id': '0C8UU7gEofNAoprBkZZih9',\n",
       "  'uri': 'spotify:track:0C8UU7gEofNAoprBkZZih9',\n",
       "  'track_href': 'https://api.spotify.com/v1/tracks/0C8UU7gEofNAoprBkZZih9',\n",
       "  'analysis_url': 'https://api.spotify.com/v1/audio-analysis/0C8UU7gEofNAoprBkZZih9',\n",
       "  'duration_ms': 234212,\n",
       "  'time_signature': 4}]"
      ]
     },
     "execution_count": 144,
     "metadata": {},
     "output_type": "execute_result"
    }
   ],
   "source": [
    "time.sleep(20)\n",
    "audiofeats=get_audio_features(song_uris)\n",
    "audiofeats"
   ]
  },
  {
   "cell_type": "code",
   "execution_count": 91,
   "id": "72ed0981",
   "metadata": {},
   "outputs": [
    {
     "name": "stdout",
     "output_type": "stream",
     "text": [
      "['danceability', 'energy', 'key', 'loudness', 'mode', 'speechiness', 'acousticness', 'instrumentalness', 'liveness', 'valence', 'tempo', 'type', 'id', 'uri', 'track_href', 'analysis_url', 'duration_ms', 'time_signature']\n"
     ]
    }
   ],
   "source": [
    "feature_keys = extract_audio_feature_keys(audiofeats)\n",
    "print(feature_keys)"
   ]
  },
  {
   "cell_type": "code",
   "execution_count": 117,
   "id": "76852862",
   "metadata": {},
   "outputs": [
    {
     "name": "stdout",
     "output_type": "stream",
     "text": [
      "{'danceability': None, 'energy': None, 'key': None, 'loudness': None, 'mode': None, 'speechiness': None, 'acousticness': None, 'instrumentalness': None, 'liveness': None, 'valence': None, 'tempo': None, 'type': None, 'id': None, 'uri': None, 'track_href': None, 'analysis_url': None, 'duration_ms': None, 'time_signature': None}\n"
     ]
    }
   ],
   "source": [
    "audio_feature_dict_dummy= {key: None for key in feature_keys}\n",
    "print(audio_feature_dict_dummy)"
   ]
  },
  {
   "cell_type": "code",
   "execution_count": 77,
   "id": "c3f7f827",
   "metadata": {},
   "outputs": [
    {
     "name": "stdout",
     "output_type": "stream",
     "text": [
      "Error: ('Connection aborted.', RemoteDisconnected('Remote end closed connection without response'))\n"
     ]
    },
    {
     "data": {
      "text/html": [
       "<div>\n",
       "<style scoped>\n",
       "    .dataframe tbody tr th:only-of-type {\n",
       "        vertical-align: middle;\n",
       "    }\n",
       "\n",
       "    .dataframe tbody tr th {\n",
       "        vertical-align: top;\n",
       "    }\n",
       "\n",
       "    .dataframe thead th {\n",
       "        text-align: right;\n",
       "    }\n",
       "</style>\n",
       "<table border=\"1\" class=\"dataframe\">\n",
       "  <thead>\n",
       "    <tr style=\"text-align: right;\">\n",
       "      <th></th>\n",
       "      <th>song_name</th>\n",
       "      <th>artist</th>\n",
       "      <th>id</th>\n",
       "      <th>acousticness</th>\n",
       "      <th>danceability</th>\n",
       "      <th>energy</th>\n",
       "    </tr>\n",
       "  </thead>\n",
       "  <tbody>\n",
       "  </tbody>\n",
       "</table>\n",
       "</div>"
      ],
      "text/plain": [
       "Empty DataFrame\n",
       "Columns: [song_name, artist, id, acousticness, danceability, energy]\n",
       "Index: []"
      ]
     },
     "execution_count": 77,
     "metadata": {},
     "output_type": "execute_result"
    }
   ],
   "source": [
    "tracks=get_song_info_with_features(title, artist, limit)\n",
    "tracks"
   ]
  },
  {
   "cell_type": "code",
   "execution_count": null,
   "id": "e051e3b5",
   "metadata": {},
   "outputs": [],
   "source": []
  }
 ],
 "metadata": {
  "kernelspec": {
   "display_name": "Python 3 (ipykernel)",
   "language": "python",
   "name": "python3"
  },
  "language_info": {
   "codemirror_mode": {
    "name": "ipython",
    "version": 3
   },
   "file_extension": ".py",
   "mimetype": "text/x-python",
   "name": "python",
   "nbconvert_exporter": "python",
   "pygments_lexer": "ipython3",
   "version": "3.11.4"
  }
 },
 "nbformat": 4,
 "nbformat_minor": 5
}
