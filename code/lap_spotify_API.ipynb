{
 "cells": [
  {
   "cell_type": "code",
   "execution_count": 1,
   "id": "5aec70ba",
   "metadata": {},
   "outputs": [
    {
     "name": "stdout",
     "output_type": "stream",
     "text": [
      " Volume in drive C has no label.\n",
      " Volume Serial Number is B8C5-A35A\n",
      "\n",
      " Directory of C:\\Users\\i.glavatskyi\\Ironhack\\Week_6\\lab-spotify-api\\code\n",
      "\n",
      "13/10/2023  01:15    <DIR>          .\n",
      "13/10/2023  01:15    <DIR>          ..\n",
      "13/10/2023  01:14    <DIR>          .ipynb_checkpoints\n",
      "13/10/2023  01:05                99 configspy.py\n",
      "13/10/2023  01:13             7,121 lap_spotify_API-Copy1.ipynb\n",
      "13/10/2023  01:15             7,121 lap_spotify_API.ipynb\n",
      "               3 File(s)         14,341 bytes\n",
      "               3 Dir(s)  172,938,182,656 bytes free\n"
     ]
    }
   ],
   "source": [
    "!dir"
   ]
  },
  {
   "cell_type": "code",
   "execution_count": 23,
   "id": "e603e941",
   "metadata": {},
   "outputs": [],
   "source": [
    "#from ..private import config_spotipy\n",
    "import sys\n",
    "from configspy import *\n",
    "import spotipy\n",
    "import json\n",
    "import pandas as pd\n",
    "\n",
    "from spotipy.oauth2 import SpotifyClientCredentials\n"
   ]
  },
  {
   "cell_type": "code",
   "execution_count": 24,
   "id": "68890d6b",
   "metadata": {},
   "outputs": [],
   "source": [
    "sp = spotipy.Spotify(auth_manager=SpotifyClientCredentials(client_id=client_id, client_secret=client_secret))"
   ]
  },
  {
   "cell_type": "code",
   "execution_count": 38,
   "id": "7e1c345a",
   "metadata": {},
   "outputs": [],
   "source": [
    "def extract_song_id(uri):\n",
    "    # Split the URI by ':'\n",
    "    parts = uri.split(':')\n",
    "    # The song ID is the last part\n",
    "    song_id = parts[-1]\n",
    "    return song_id\n"
   ]
  },
  {
   "cell_type": "code",
   "execution_count": 42,
   "id": "e665b96b",
   "metadata": {},
   "outputs": [],
   "source": [
    "def search_song(title, artist, limit=1):\n",
    "    song_data = {'song_name': [], 'artist': [], 'spotify_id': []}\n",
    "    \n",
    "    try:\n",
    "        # Search for the song using the title and artist\n",
    "        if artist:\n",
    "            # Search by both title and artist\n",
    "            query = f\"track:{title} artist:{artist}\"\n",
    "        else:\n",
    "            # Search by title only if artist is not provided\n",
    "            query = f\"track:{title}\"\n",
    "        \n",
    "        results = sp.search(q=query, type='track', limit=limit)\n",
    "        \n",
    "        if results['tracks']['items']:\n",
    "            for track in results['tracks']['items']:\n",
    "                song_data['song_name'].append(track['name'])\n",
    "                song_data['artist'].append(track['artists'][0]['name'])\n",
    "                song_data['spotify_id'].append(extract_song_id(track['uri']))\n",
    "        \n",
    "        return pd.DataFrame(song_data)\n",
    "    \n",
    "    except Exception as e:\n",
    "        print(f\"Error: {e}\")\n",
    "        return pd.DataFrame(columns=['song_name', 'artist', 'spotify_id'])\n",
    "\n",
    "\n",
    "# Example usage:\n",
    "title = \"Immigrant Song\"\n",
    "artist = \"Led Zeppelin\"\n",
    "limit = 1"
   ]
  },
  {
   "cell_type": "code",
   "execution_count": 47,
   "id": "a69ce501",
   "metadata": {},
   "outputs": [],
   "source": [
    "title = \"Georgia off My Mind\"\n",
    "artist = \"\"\n",
    "limit = 5"
   ]
  },
  {
   "cell_type": "code",
   "execution_count": 48,
   "id": "c3f7f827",
   "metadata": {},
   "outputs": [
    {
     "data": {
      "text/html": [
       "<div>\n",
       "<style scoped>\n",
       "    .dataframe tbody tr th:only-of-type {\n",
       "        vertical-align: middle;\n",
       "    }\n",
       "\n",
       "    .dataframe tbody tr th {\n",
       "        vertical-align: top;\n",
       "    }\n",
       "\n",
       "    .dataframe thead th {\n",
       "        text-align: right;\n",
       "    }\n",
       "</style>\n",
       "<table border=\"1\" class=\"dataframe\">\n",
       "  <thead>\n",
       "    <tr style=\"text-align: right;\">\n",
       "      <th></th>\n",
       "      <th>song_name</th>\n",
       "      <th>artist</th>\n",
       "      <th>spotify_id</th>\n",
       "    </tr>\n",
       "  </thead>\n",
       "  <tbody>\n",
       "    <tr>\n",
       "      <th>0</th>\n",
       "      <td>Georgia Off My Mind</td>\n",
       "      <td>Larkin Poe</td>\n",
       "      <td>4dLPPSxHgaoy38YmX4yJnV</td>\n",
       "    </tr>\n",
       "    <tr>\n",
       "      <th>1</th>\n",
       "      <td>Georgia Off My Mind</td>\n",
       "      <td>Larkin Poe</td>\n",
       "      <td>2se33uCsb88PVwbp6ESNGb</td>\n",
       "    </tr>\n",
       "    <tr>\n",
       "      <th>2</th>\n",
       "      <td>Georgia off My Mind</td>\n",
       "      <td>Jared Wade</td>\n",
       "      <td>61QrMlxsE6A0Qyw21RGmbZ</td>\n",
       "    </tr>\n",
       "    <tr>\n",
       "      <th>3</th>\n",
       "      <td>Georgia on My Mind (with Gene Krupa &amp; His Orch...</td>\n",
       "      <td>Anita O'Day</td>\n",
       "      <td>4dmyrJKIeq1Y2XYS48SDSA</td>\n",
       "    </tr>\n",
       "    <tr>\n",
       "      <th>4</th>\n",
       "      <td>Georgia Off My Mind</td>\n",
       "      <td>Larkin Poe</td>\n",
       "      <td>0C8UU7gEofNAoprBkZZih9</td>\n",
       "    </tr>\n",
       "  </tbody>\n",
       "</table>\n",
       "</div>"
      ],
      "text/plain": [
       "                                           song_name       artist  \\\n",
       "0                                Georgia Off My Mind   Larkin Poe   \n",
       "1                                Georgia Off My Mind   Larkin Poe   \n",
       "2                                Georgia off My Mind   Jared Wade   \n",
       "3  Georgia on My Mind (with Gene Krupa & His Orch...  Anita O'Day   \n",
       "4                                Georgia Off My Mind   Larkin Poe   \n",
       "\n",
       "               spotify_id  \n",
       "0  4dLPPSxHgaoy38YmX4yJnV  \n",
       "1  2se33uCsb88PVwbp6ESNGb  \n",
       "2  61QrMlxsE6A0Qyw21RGmbZ  \n",
       "3  4dmyrJKIeq1Y2XYS48SDSA  \n",
       "4  0C8UU7gEofNAoprBkZZih9  "
      ]
     },
     "execution_count": 48,
     "metadata": {},
     "output_type": "execute_result"
    }
   ],
   "source": [
    "tracks=search_song(title, artist, limit)\n",
    "tracks"
   ]
  },
  {
   "cell_type": "code",
   "execution_count": null,
   "id": "3ad4e117",
   "metadata": {},
   "outputs": [],
   "source": []
  }
 ],
 "metadata": {
  "kernelspec": {
   "display_name": "Python 3 (ipykernel)",
   "language": "python",
   "name": "python3"
  },
  "language_info": {
   "codemirror_mode": {
    "name": "ipython",
    "version": 3
   },
   "file_extension": ".py",
   "mimetype": "text/x-python",
   "name": "python",
   "nbconvert_exporter": "python",
   "pygments_lexer": "ipython3",
   "version": "3.11.4"
  }
 },
 "nbformat": 4,
 "nbformat_minor": 5
}
