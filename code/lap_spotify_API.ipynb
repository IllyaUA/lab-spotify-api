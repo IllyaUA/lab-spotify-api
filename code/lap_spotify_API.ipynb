{
 "cells": [
  {
   "cell_type": "code",
   "execution_count": null,
   "id": "2bd2acb1",
   "metadata": {},
   "outputs": [],
   "source": [
    "import spotipy\n",
    "from spotipy.oauth2 import SpotifyClientCredentials\n",
    "\n",
    "def search_song(title, artist, limit=1):\n",
    "    # Initialize the Spotify client\n",
    "    client_id = 'YOUR_CLIENT_ID'\n",
    "    client_secret = 'YOUR_CLIENT_SECRET'\n",
    "    \n",
    "    # Replace 'YOUR_CLIENT_ID' and 'YOUR_CLIENT_SECRET' with your Spotify API credentials\n",
    "    sp = spotipy.Spotify(auth_manager=SpotifyClientCredentials(client_id=client_id, client_secret=client_secret))\n",
    "\n",
    "    # Search for tracks using the provided title and artist\n",
    "    query = f'track:{title} artist:{artist}'\n",
    "    results = sp.search(q=query, limit=limit, type='track')\n",
    "\n",
    "    if 'tracks' in results and 'items' in results['tracks']:\n",
    "        tracks = results['tracks']['items']\n",
    "        if len(tracks) > 0:\n",
    "            return tracks\n",
    "    return None\n",
    "\n",
    "if __name__ == \"__main__\":\n",
    "    title = 'Song Title'  # Replace with the title of the song you want to search\n",
    "    artist = 'Artist Name'  # Replace with the artist's name\n",
    "    limit = 1  # Set the limit for the number of search results\n",
    "    \n",
    "    results = search_song(title, artist, limit)\n",
    "    \n",
    "    if results:\n",
    "        for i, track in enumerate(results, 1):\n",
    "            print(f\"Result {i}:\")\n",
    "            print(f\"Title: {track['name']}\")\n",
    "            print(f\"Artist: {', '.join(artist['name'] for artist in track['artists'])}\")\n",
    "            print(f\"Spotify URL: {track['external_urls']['spotify']}\")\n",
    "            print(\"---\")\n",
    "    else:\n",
    "        print(\"No results found.\")\n"
   ]
  }
 ],
 "metadata": {
  "kernelspec": {
   "display_name": "Python 3 (ipykernel)",
   "language": "python",
   "name": "python3"
  },
  "language_info": {
   "codemirror_mode": {
    "name": "ipython",
    "version": 3
   },
   "file_extension": ".py",
   "mimetype": "text/x-python",
   "name": "python",
   "nbconvert_exporter": "python",
   "pygments_lexer": "ipython3",
   "version": "3.11.4"
  }
 },
 "nbformat": 4,
 "nbformat_minor": 5
}
